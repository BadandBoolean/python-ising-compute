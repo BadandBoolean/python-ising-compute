{
 "cells": [
  {
   "cell_type": "markdown",
   "metadata": {},
   "source": [
    "WIP\n",
    "Citations: Andrew Lucas: Ising formulations of many NP Problems. arXiv:1302.5843. \n",
    "https://arxiv.org/abs/1302.5843\n",
    "\n",
    "Ising machine: Number Partitioning\n",
    "\n",
    "Number partitioning is an algorithm which partitions a set of numbers into two\n",
    "sets such that both sets add up to the same amount. "
   ]
  },
  {
   "cell_type": "code",
   "execution_count": 2,
   "metadata": {},
   "outputs": [],
   "source": [
    "import numpy as np\n",
    "import scienceplots\n",
    "import matplotlib.pyplot as plt\n",
    "import numba\n",
    "import math\n"
   ]
  },
  {
   "cell_type": "code",
   "execution_count": null,
   "metadata": {},
   "outputs": [
    {
     "name": "stdout",
     "output_type": "stream",
     "text": [
      "data:  [19 95 91 85 44 55  5 38 23 66 53  2 23 45 60 66 85 44 87 80 25 10 17 26\n",
      " 23 35 94 15 12 43 55 78  6 55  6 29 45 56 30 75 38 12 59 51 54 35 84 69\n",
      " 60 82 48 34 34 94 94 57 15 65 70 80 61 18 41 15 58 79 98 22 18 38 33 49\n",
      " 43 34 46 34 34 25 61 38 85 53 82 68 50 35 51 72  4 62 23 52 45 44 71 34\n",
      " 75 59 27 51]\n",
      "length: 100\n",
      "Data generated.\n"
     ]
    }
   ],
   "source": [
    "# generate a random set of N positive whole numbers\n",
    "def generate_data(N):\n",
    "    return np.random.randint(1, N, N) # low, high, size\n",
    "\n",
    "N = 1000\n",
    "data = generate_data(N)\n",
    "print(\"data: \", data)\n",
    "print(\"length:\", len(data))\n",
    "print(\"Data generated.\")"
   ]
  },
  {
   "cell_type": "code",
   "execution_count": 106,
   "metadata": {},
   "outputs": [
    {
     "name": "stdout",
     "output_type": "stream",
     "text": [
      "[ 1  1  1 -1 -1 -1 -1 -1  1 -1  1  1  1  1 -1 -1 -1  1  1  1 -1  1  1 -1\n",
      " -1  1 -1  1  1 -1  1  1 -1  1  1  1 -1  1  1  1  1 -1 -1 -1  1 -1  1 -1\n",
      " -1  1  1 -1  1  1  1  1 -1  1 -1 -1  1 -1 -1 -1  1 -1  1 -1  1 -1  1 -1\n",
      "  1 -1  1  1  1  1  1 -1  1 -1 -1 -1  1 -1 -1  1 -1  1  1  1  1 -1  1  1\n",
      " -1 -1  1 -1]\n"
     ]
    }
   ],
   "source": [
    "# generate an initial N x 1 vector of spins which are -1 or 1\n",
    "@numba.njit\n",
    "def generate_spins(N):\n",
    "    return np.random.choice(np.array([-1, 1], dtype=np.int64), size=N) # 1D array, size. generates random sample\n",
    "\n",
    "vector = generate_spins(N)\n",
    "print(vector)"
   ]
  },
  {
   "cell_type": "code",
   "execution_count": 107,
   "metadata": {},
   "outputs": [
    {
     "name": "stdout",
     "output_type": "stream",
     "text": [
      "set A:  [19, 95, 91, 23, 53, 2, 23, 45, 44, 87, 80, 10, 17, 35, 15, 12, 55, 78, 55, 6, 29, 56, 30, 75, 38, 54, 84, 82, 48, 34, 94, 94, 57, 65, 61, 58, 98, 18, 33, 43, 46, 34, 34, 25, 61, 85, 50, 72, 62, 23, 52, 45, 71, 34, 27]\n",
      "set_B [85, 44, 55, 5, 38, 66, 60, 66, 85, 25, 26, 23, 94, 43, 6, 45, 12, 59, 51, 35, 69, 60, 34, 15, 70, 80, 18, 41, 15, 79, 22, 38, 49, 34, 38, 53, 82, 68, 35, 51, 4, 44, 75, 59, 51]\n",
      "sum A:  2717\n",
      "sum B:  2107\n"
     ]
    },
    {
     "name": "stderr",
     "output_type": "stream",
     "text": [
      "/Users/aliya/DIMPLE/isingmodel/.venv/lib/python3.11/site-packages/numba/core/decorators.py:246: RuntimeWarning: nopython is set for njit and is ignored\n",
      "  warnings.warn('nopython is set for njit and is ignored', RuntimeWarning)\n"
     ]
    }
   ],
   "source": [
    "from numba.typed import List\n",
    "# partitions numbers randomly into two groups based on the spin vector\n",
    "@numba.njit(nopython=True)\n",
    "def get_groups(numbers_set, spin_vector):\n",
    "    N = len(spin_vector)\n",
    "    \n",
    "    set_A = List()\n",
    "    set_B = List()\n",
    "\n",
    "    for n in range(N):\n",
    "        if spin_vector[n] == 1:\n",
    "            set_A.append(numbers_set[n])\n",
    "        elif spin_vector[n] == -1: \n",
    "            set_B.append(numbers_set[n])\n",
    "    return set_A, set_B\n",
    "\n",
    "@numba.njit(nopython=True)\n",
    "def get_sums(set_A, set_B):\n",
    "    sum_A = 0\n",
    "    sum_B = 0\n",
    "    for a in set_A:\n",
    "        sum_A += a\n",
    "    for b in set_B:\n",
    "        sum_B += b   \n",
    "    return sum_A, sum_B\n",
    "\n",
    "set_A, set_B = get_groups(data, vector) # data, vector generated previously\n",
    "\n",
    "print(\"set A: \", set_A)\n",
    "print(\"set_B\", set_B)\n",
    "\n",
    "sum_A, sum_B = get_sums(set_A, set_B)\n",
    "print(\"sum A: \", sum_A)\n",
    "print(\"sum B: \", sum_B)"
   ]
  },
  {
   "cell_type": "code",
   "execution_count": null,
   "metadata": {},
   "outputs": [
    {
     "name": "stdout",
     "output_type": "stream",
     "text": [
      "J: [[ 361 1805 1729 ... 1121  513  969]\n",
      " [1805 9025 8645 ... 5605 2565 4845]\n",
      " [1729 8645 8281 ... 5369 2457 4641]\n",
      " ...\n",
      " [1121 5605 5369 ... 3481 1593 3009]\n",
      " [ 513 2565 2457 ... 1593  729 1377]\n",
      " [ 969 4845 4641 ... 3009 1377 2601]]\n"
     ]
    }
   ],
   "source": [
    "def outer_prod(data):\n",
    "    S = np.array(data)\n",
    "    N = len(S)\n",
    "    J = np.outer(S, S)\n",
    "    \n",
    "    return J\n",
    "\n",
    "# J = outer_prod(data)\n",
    "print(\"J:\", J)\n",
    "# A is a constant for the Hamiltonian\n",
    "A = 1\n",
    "\n",
    "# H(s) = s^T * J * s\n",
    "def compute_init_energy(J, s):\n",
    "    return s @ J @ s # dimensions are handled automatically.\n",
    "\n",
    "\n",
    "def compute_delta_energy(a, s, i):\n",
    "    summation = np.sum(a[i] * a * s) # sum across all j \n",
    "    return - 2 * s[i] * summation"
   ]
  },
  {
   "cell_type": "code",
   "execution_count": 108,
   "metadata": {},
   "outputs": [
    {
     "name": "stdout",
     "output_type": "stream",
     "text": [
      "Initial energy: 610\n"
     ]
    }
   ],
   "source": [
    "@numba.jit(nopython=True)\n",
    "def compute_sum_difference(a_vector, spin_vector):\n",
    "    # we trivially define the energy as the absolute value of the difference in\n",
    "    # sum between the two sets\n",
    "    set_A, set_B = get_groups(a_vector, spin_vector)\n",
    "    sum_A, sum_B = get_sums(set_A, set_B)\n",
    "    return abs(sum_A - sum_B)\n",
    "\n",
    "print(\"Initial energy:\", compute_sum_difference(data, vector))\n",
    "\n",
    "\n"
   ]
  },
  {
   "cell_type": "code",
   "execution_count": 114,
   "metadata": {},
   "outputs": [
    {
     "name": "stderr",
     "output_type": "stream",
     "text": [
      "/Users/aliya/DIMPLE/isingmodel/.venv/lib/python3.11/site-packages/numba/core/decorators.py:246: RuntimeWarning: nopython is set for njit and is ignored\n",
      "  warnings.warn('nopython is set for njit and is ignored', RuntimeWarning)\n",
      "/Users/aliya/DIMPLE/isingmodel/.venv/lib/python3.11/site-packages/numba/core/typed_passes.py:336: NumbaPerformanceWarning: \n",
      "The keyword argument 'parallel=True' was specified but no transformation for parallel execution was possible.\n",
      "\n",
      "To find out why, try turning on parallel diagnostics, see https://numba.readthedocs.io/en/stable/user/parallel.html#diagnostics for help.\n",
      "\n",
      "File \"../../../../var/folders/m8/l24rcsrx7cndr07cnvmy2c6c0000gn/T/ipykernel_29814/2195249962.py\", line 1:\n",
      "<source missing, REPL/exec in use?>\n",
      "\n",
      "  warnings.warn(errors.NumbaPerformanceWarning(msg,\n"
     ]
    },
    {
     "name": "stdout",
     "output_type": "stream",
     "text": [
      "Initial sum A: 2455\n",
      "Initial sum B: 2631\n",
      "Initial absolute difference: 176\n",
      "Initial energy: 176\n",
      "Step 0: new_E = 98\n",
      "Accepted this delta!\n",
      "Step 1: new_E = 26\n",
      "Accepted this delta!\n",
      "Step 2: new_E = 20\n",
      "Accepted this delta!\n",
      "Step 3: new_E = 84\n",
      "Step 4: new_E = 72\n",
      "Step 5: new_E = 164\n",
      "Step 6: new_E = 92\n",
      "Step 7: new_E = 62\n",
      "Step 8: new_E = 130\n",
      "Step 9: new_E = 72\n",
      "Best energy: 2\n",
      "Current energy: 2\n",
      "Final sum A: 2544\n",
      "Final sum B: 2542\n",
      "Final absolute difference: 2\n",
      "Best sum A: 2544\n",
      "Best sum B: 2542\n",
      "Best absolute difference: 2\n"
     ]
    }
   ],
   "source": [
    "@numba.njit(\n",
    "    numba.types.Tuple((\n",
    "        numba.types.int64[:],  \n",
    "        numba.types.int64,   \n",
    "        numba.types.int64,   \n",
    "        numba.types.int64[:],  \n",
    "        numba.types.ListType(numba.types.int64),  \n",
    "        numba.types.ListType(numba.types.int64)   \n",
    "    ))(\n",
    "        numba.types.int64[:],  \n",
    "        numba.types.int64[:],  \n",
    "        numba.types.float64,     \n",
    "        numba.types.int64       \n",
    "    ),\n",
    "    nopython=True, parallel=True, fastmath=True, nogil=True\n",
    ")\n",
    "# nopython - native types must be inferred by compiler. Python C API is not accessed. \n",
    "def metropolis(a_vector, spin_vector, temp, num_steps):\n",
    "    N = len(a_vector)\n",
    "    # J = outer_prod(a_vector)  # Compute the outer product of the data vector\n",
    "    E_i = compute_sum_difference(a_vector, spin_vector)  # Initial energy difference\n",
    "    current_energy = E_i  # Current energy difference, scalars are immutable\n",
    "    lowest_energy = current_energy\n",
    "    best_sort = spin_vector.copy()\n",
    "    print(\"Initial energy:\", current_energy)\n",
    "\n",
    "    current_energies = List()\n",
    "    best_energies = List()\n",
    "    \n",
    "\n",
    "    for step in range(num_steps):\n",
    "        # choose a random number to switch into the other group\n",
    "        i = np.random.randint(0, N)\n",
    "        spin_vector[i] *= -1\n",
    "        # compute the change in energy that would result from flipping to the\n",
    "        # other group\n",
    "        new_E = compute_sum_difference(a_vector, spin_vector)\n",
    "        # print delta_E for first couple of steps only, debugging\n",
    "        if step < 10:\n",
    "            print(f\"Step {step}: new_E = {new_E}\")\n",
    "\n",
    "        # if difference in sums is less than curr difference in sums, apply this\n",
    "        # change or accept it with a probability\n",
    "\n",
    "        if (new_E < current_energy) or (np.random.rand() < np.exp(-new_E / temp)):\n",
    "            if step < 10:\n",
    "                print(\"Accepted this delta!\")\n",
    "            # if the energy change is negative, accept the change or accept with a probability.\n",
    "            # if delta_E <= 0 or np.random.rand() < np.exp(-delta_E / temp):\n",
    "            current_energy = new_E  # Update the current energy\n",
    "            # If the current energy is lower than the best found so far\n",
    "            if new_E < lowest_energy:\n",
    "                lowest_energy = current_energy\n",
    "                best_sort = spin_vector.copy()\n",
    "        else:\n",
    "            # flip the spin back to its original state\n",
    "            spin_vector[i] *= -1  # Revert the spin change\n",
    "\n",
    "        # Store the current energy for plotting or analysis\n",
    "        current_energies.append(current_energy)\n",
    "        best_energies.append(lowest_energy)\n",
    "\n",
    "    return best_sort, lowest_energy, current_energy, spin_vector, current_energies, best_energies\n",
    "\n",
    "\n",
    "temp = 0.5\n",
    "num_steps = 100\n",
    "spin_vector = generate_spins(N)\n",
    "a_vector = generate_data(N)\n",
    "\n",
    "# Initial Groups and Sums\n",
    "set_A, set_B = get_groups(a_vector, spin_vector)\n",
    "sum_A, sum_B = get_sums(set_A, set_B)\n",
    "\n",
    "print(\"Initial sum A:\", sum_A)\n",
    "print(\"Initial sum B:\", sum_B)\n",
    "print(\"Initial absolute difference:\", np.absolute(sum_A - sum_B))\n",
    "\n",
    "\n",
    "best_spin_vec, best_energy, current_energy, current_spin_vec, curr_energies, best_energies = metropolis(a_vector, spin_vector, temp, num_steps)\n",
    "\n",
    "# print(\"Best sort:\", best_sort)\n",
    "print(\"Best energy:\", best_energy)\n",
    "print(\"Current energy:\", current_energy)\n",
    "# print(\"Final spin vector:\", spin_vec)\n",
    "\n",
    "# find the groups and sums\n",
    "set_A, set_B = get_groups(a_vector, current_spin_vec)\n",
    "sum_A, sum_B = get_sums(set_A, set_B)\n",
    "\n",
    "\n",
    "print(\"Final sum A:\", sum_A)\n",
    "print(\"Final sum B:\", sum_B)\n",
    "print(\"Final absolute difference:\", np.absolute(sum_A - sum_B))\n",
    "\n",
    "# best results\n",
    "set_A, set_B = get_groups(a_vector, best_spin_vec)\n",
    "sum_A, sum_B = get_sums(set_A, set_B)\n",
    "\n",
    "print(\"Best sum A:\", sum_A)\n",
    "print(\"Best sum B:\", sum_B)\n",
    "print(\"Best absolute difference:\", np.absolute(sum_A - sum_B))\n",
    "\n"
   ]
  },
  {
   "cell_type": "code",
   "execution_count": 115,
   "metadata": {},
   "outputs": [
    {
     "data": {
      "image/png": "[encoded data removed]",
      "text/plain": [
       "<Figure size 1000x600 with 1 Axes>"
      ]
     },
     "metadata": {},
     "output_type": "display_data"
    }
   ],
   "source": [
    "# Plotting the results, how the current and best energy change over time steps\n",
    "plt.figure(figsize=(10, 6))\n",
    "plt.plot(range(num_steps), curr_energies, label='Current Energy', color='blue')\n",
    "plt.plot(range(num_steps), best_energies, label='Best Energy', color='orange')\n",
    "plt.xlabel('Steps')\n",
    "plt.ylabel('Energy')\n",
    "plt.title('Energy Evolution Over Time')\n",
    "plt.legend()\n",
    "plt.show()"
   ]
  }
 ],
 "metadata": {
  "kernelspec": {
   "display_name": ".venv",
   "language": "python",
   "name": "python3"
  },
  "language_info": {
   "codemirror_mode": {
    "name": "ipython",
    "version": 3
   },
   "file_extension": ".py",
   "mimetype": "text/x-python",
   "name": "python",
   "nbconvert_exporter": "python",
   "pygments_lexer": "ipython3",
   "version": "3.11.6"
  }
 },
 "nbformat": 4,
 "nbformat_minor": 2
}
