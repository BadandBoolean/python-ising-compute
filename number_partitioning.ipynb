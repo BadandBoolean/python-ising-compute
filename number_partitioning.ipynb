{
 "cells": [
  {
   "cell_type": "markdown",
   "metadata": {},
   "source": [
    "WIP\n",
    "Citations: Andrew Lucas: Ising formulations of many NP Problems. arXiv:1302.5843. \n",
    "https://arxiv.org/abs/1302.5843\n",
    "\n",
    "Ising machine: Number Partitioning\n",
    "\n",
    "Number partitioning is an algorithm which partitions a set of numbers into two\n",
    "sets such that both sets add up to the same amount. "
   ]
  },
  {
   "cell_type": "code",
   "execution_count": null,
   "metadata": {},
   "outputs": [],
   "source": [
    "import numpy as np\n",
    "import scienceplots\n",
    "import matplotlib.pyplot as plt\n",
    "import numba\n",
    "import math\n"
   ]
  },
  {
   "cell_type": "code",
   "execution_count": null,
   "metadata": {},
   "outputs": [],
   "source": [
    "# generate a random set of N positive whole numbers\n",
    "def generate_data(N):\n",
    "    return np.random.randint(1, N, N)\n",
    "\n",
    "print(\"Generating data...\")\n",
    "N = 100\n",
    "data = generate_data(N)\n",
    "print(data)\n",
    "print(\"length:\", len(data))\n",
    "print(\"Data generated.\")"
   ]
  },
  {
   "cell_type": "code",
   "execution_count": null,
   "metadata": {},
   "outputs": [],
   "source": [
    "# generate an initial N x 1 vector of spins wich are -1 or 1\n",
    "def generate_spins(N):\n",
    "    return np.random.choice([-1, 1], N)\n",
    "\n",
    "vector = generate_spins(N)\n",
    "print(vector)"
   ]
  },
  {
   "cell_type": "code",
   "execution_count": null,
   "metadata": {},
   "outputs": [],
   "source": [
    "def get_groups(numbers_set, spins_set):\n",
    "    N = len(spins_set)\n",
    "    \n",
    "    set_A = np.empty(0)\n",
    "    set_B = np.empty(0)\n",
    "\n",
    "    for n in range(N):\n",
    "        if spins_set[n] == 1:\n",
    "            set_A = np.append(set_A, numbers_set[n])\n",
    "        else: \n",
    "            set_B = np.append(set_B, numbers_set[n])\n",
    "    return set_A, set_B\n",
    "\n",
    "def get_sums(set_A, set_B):\n",
    "    return sum(set_A), sum(set_B)\n",
    "\n",
    "set_A, set_B = get_groups(data, vector)\n",
    "\n",
    "print(\"set A: \", set_A)\n",
    "print(\"set_B\", set_B)\n",
    "\n",
    "sum_A, sum_B = get_sums(set_A, set_B)\n",
    "print(\"sum A: \", sum_A)\n",
    "print(\"sum B: \", sum_B)"
   ]
  },
  {
   "cell_type": "code",
   "execution_count": null,
   "metadata": {},
   "outputs": [],
   "source": [
    "def outer_prod(data):\n",
    "    S = np.array(data)\n",
    "    N = len(S)\n",
    "    J = np.outer(S, S)\n",
    "    \n",
    "    return J\n",
    "\n",
    "J = outer_prod(data)\n",
    "print(\"J:\", J)\n",
    "# A is a constant for the Hamiltonian\n",
    "A = 1\n",
    "\n",
    "# H(s) = s^T * J * s\n",
    "def compute_init_energy(J, s):\n",
    "    return s @ J @ s # dimensions are handled automatically.\n",
    "\n",
    "\n",
    "def compute_delta_energy(all_nums, spin_vector, index):\n",
    "    summation = np.sum(all_nums[index] * all_nums * spin_vector) # sum across all j \n",
    "    summation_without_self = summation - all_nums[index]**2\n",
    "\n",
    "    return 2 * spin_vector[index] * summation"
   ]
  },
  {
   "cell_type": "code",
   "execution_count": null,
   "metadata": {},
   "outputs": [],
   "source": [
    "def metropolis(a_vector, spin_vector, temp, num_steps):\n",
    "    N = len(a_vector)\n",
    "    J = outer_prod(a_vector)\n",
    "    E_i = compute_init_energy(J, spin_vector)\n",
    "    lowest_energy = E_i\n",
    "    best_sort = spin_vector.copy()\n",
    "\n",
    "    for step in range(num_steps):\n",
    "        # choose a random index to flip\n",
    "        i = np.random.randint(0, N)\n",
    "        delta_E = compute_delta_energy(a_vector, spin_vector, i)\n",
    "\n",
    "        # if the energy change is negative, accept the change\n",
    "        if delta_E <= 0 or np.random.rand() < np.exp(-delta_E / temp):\n",
    "            spin_vector[i] *= -1  # Flip the spin\n",
    "            lowest_energy += delta_E\n",
    "            if lowest_energy < lowest_energy:\n",
    "                lowest_energy = lowest_energy\n",
    "                best_sort = spin_vector.copy()\n",
    "\n",
    "    return best_sort, lowest_energy\n",
    "\n",
    "\n",
    "\n",
    "        \n",
    "\n",
    "\n",
    "\n",
    "\n",
    "    \n",
    "\n",
    "temp = 0.5\n",
    "num_steps = 10000\n",
    "spin_vector = generate_spins(N)\n",
    "a_vector = generate_data(N)\n",
    "\n",
    "best_sort, lowest_energy = metropolis(a_vector, spin_vector, temp, num_steps)\n",
    "\n"
   ]
  }
 ],
 "metadata": {
  "kernelspec": {
   "display_name": ".venv",
   "language": "python",
   "name": "python3"
  },
  "language_info": {
   "codemirror_mode": {
    "name": "ipython",
    "version": 3
   },
   "file_extension": ".py",
   "mimetype": "text/x-python",
   "name": "python",
   "nbconvert_exporter": "python",
   "pygments_lexer": "ipython3",
   "version": "3.11.6"
  }
 },
 "nbformat": 4,
 "nbformat_minor": 2
}
