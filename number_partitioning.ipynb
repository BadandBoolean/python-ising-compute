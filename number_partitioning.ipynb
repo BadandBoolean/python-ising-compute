{
 "cells": [
  {
   "cell_type": "markdown",
   "metadata": {},
   "source": [
    "WIP\n",
    "Citations: Andrew Lucas: Ising formulations of many NP Problems. arXiv:1302.5843. \n",
    "https://arxiv.org/abs/1302.5843\n",
    "\n",
    "Ising machine: Number Partitioning\n",
    "\n",
    "Number partitioning is an algorithm which partitions a set of numbers into two\n",
    "sets such that both sets add up to the same amount. "
   ]
  },
  {
   "cell_type": "code",
   "execution_count": 2,
   "metadata": {},
   "outputs": [],
   "source": [
    "import numpy as np\n",
    "import scienceplots\n",
    "import matplotlib.pyplot as plt\n",
    "import numba\n",
    "import math\n"
   ]
  },
  {
   "cell_type": "code",
   "execution_count": 4,
   "metadata": {},
   "outputs": [
    {
     "name": "stdout",
     "output_type": "stream",
     "text": [
      "data:  [19 95 91 85 44 55  5 38 23 66 53  2 23 45 60 66 85 44 87 80 25 10 17 26\n",
      " 23 35 94 15 12 43 55 78  6 55  6 29 45 56 30 75 38 12 59 51 54 35 84 69\n",
      " 60 82 48 34 34 94 94 57 15 65 70 80 61 18 41 15 58 79 98 22 18 38 33 49\n",
      " 43 34 46 34 34 25 61 38 85 53 82 68 50 35 51 72  4 62 23 52 45 44 71 34\n",
      " 75 59 27 51]\n",
      "length: 100\n",
      "Data generated.\n"
     ]
    }
   ],
   "source": [
    "# generate a random set of N positive whole numbers\n",
    "def generate_data(N):\n",
    "    return np.random.randint(1, N, N) # low, high, size\n",
    "\n",
    "N = 100\n",
    "data = generate_data(N)\n",
    "print(\"data: \", data)\n",
    "print(\"length:\", len(data))\n",
    "print(\"Data generated.\")"
   ]
  },
  {
   "cell_type": "code",
   "execution_count": 5,
   "metadata": {},
   "outputs": [
    {
     "name": "stdout",
     "output_type": "stream",
     "text": [
      "[-1 -1 -1 -1  1  1 -1  1  1 -1  1  1 -1  1 -1 -1  1 -1 -1  1 -1  1 -1  1\n",
      " -1 -1 -1 -1 -1 -1 -1 -1  1  1  1  1 -1 -1  1 -1  1 -1 -1 -1  1 -1 -1  1\n",
      "  1 -1  1  1  1 -1  1 -1 -1  1  1 -1 -1  1  1  1  1  1 -1  1  1 -1  1  1\n",
      "  1  1 -1  1 -1 -1 -1  1 -1 -1 -1  1 -1  1 -1  1 -1 -1 -1 -1 -1  1  1 -1\n",
      " -1 -1  1 -1]\n"
     ]
    }
   ],
   "source": [
    "# generate an initial N x 1 vector of spins which are -1 or 1\n",
    "def generate_spins(N):\n",
    "    return np.random.choice([-1, 1], N) # 1D array, size. generates random sample\n",
    "\n",
    "vector = generate_spins(N)\n",
    "print(vector)"
   ]
  },
  {
   "cell_type": "code",
   "execution_count": 8,
   "metadata": {},
   "outputs": [
    {
     "name": "stdout",
     "output_type": "stream",
     "text": [
      "set A:  [44. 55. 38. 23. 53.  2. 45. 85. 80. 10. 26.  6. 55.  6. 29. 30. 38. 54.\n",
      " 69. 60. 48. 34. 34. 94. 65. 70. 18. 41. 15. 58. 79. 22. 18. 33. 49. 43.\n",
      " 34. 34. 38. 68. 35. 72. 44. 71. 27.]\n",
      "set_B [19. 95. 91. 85.  5. 66. 23. 60. 66. 44. 87. 25. 17. 23. 35. 94. 15. 12.\n",
      " 43. 55. 78. 45. 56. 75. 12. 59. 51. 35. 84. 82. 94. 57. 15. 80. 61. 98.\n",
      " 38. 46. 34. 25. 61. 85. 53. 82. 50. 51.  4. 62. 23. 52. 45. 34. 75. 59.\n",
      " 51.]\n",
      "sum A:  1952.0\n",
      "sum B:  2872.0\n"
     ]
    }
   ],
   "source": [
    "# partitions numbers randomly into two groups based on the spin vector\n",
    "def get_groups(numbers_set, spin_vector):\n",
    "    N = len(spin_vector)\n",
    "    \n",
    "    set_A = np.empty(0) # []\n",
    "    set_B = np.empty(0)\n",
    "\n",
    "    for n in range(N):\n",
    "        if spin_vector[n] == 1:\n",
    "            set_A = np.append(set_A, numbers_set[n])\n",
    "        elif spin_vector[n] == -1: \n",
    "            set_B = np.append(set_B, numbers_set[n])\n",
    "    return set_A, set_B\n",
    "\n",
    "def get_sums(set_A, set_B):\n",
    "    return sum(set_A), sum(set_B)\n",
    "\n",
    "set_A, set_B = get_groups(data, vector) # data, vector generated previously\n",
    "\n",
    "print(\"set A: \", set_A)\n",
    "print(\"set_B\", set_B)\n",
    "\n",
    "sum_A, sum_B = get_sums(set_A, set_B)\n",
    "print(\"sum A: \", sum_A)\n",
    "print(\"sum B: \", sum_B)"
   ]
  },
  {
   "cell_type": "code",
   "execution_count": 10,
   "metadata": {},
   "outputs": [
    {
     "name": "stdout",
     "output_type": "stream",
     "text": [
      "J: [[ 361 1805 1729 ... 1121  513  969]\n",
      " [1805 9025 8645 ... 5605 2565 4845]\n",
      " [1729 8645 8281 ... 5369 2457 4641]\n",
      " ...\n",
      " [1121 5605 5369 ... 3481 1593 3009]\n",
      " [ 513 2565 2457 ... 1593  729 1377]\n",
      " [ 969 4845 4641 ... 3009 1377 2601]]\n"
     ]
    }
   ],
   "source": [
    "def outer_prod(data):\n",
    "    S = np.array(data)\n",
    "    N = len(S)\n",
    "    J = np.outer(S, S)\n",
    "    \n",
    "    return J\n",
    "\n",
    "J = outer_prod(data)\n",
    "print(\"J:\", J)\n",
    "# A is a constant for the Hamiltonian\n",
    "A = 1\n",
    "\n",
    "# H(s) = s^T * J * s\n",
    "def compute_init_energy(J, s):\n",
    "    return s @ J @ s # dimensions are handled automatically.\n",
    "\n",
    "\n",
    "def compute_delta_energy(a, s, i):\n",
    "    summation = np.sum(a[i] * a * s) # sum across all j \n",
    "    return - 2 * s[i] * summation"
   ]
  },
  {
   "cell_type": "code",
   "execution_count": 18,
   "metadata": {},
   "outputs": [
    {
     "name": "stdout",
     "output_type": "stream",
     "text": [
      "Initial set A: [98.  4. 16. 93. 84. 27. 47. 69. 36. 63. 20.  7. 25. 89. 51. 87. 56. 61.\n",
      " 11.  8. 36.  9.  2.  6. 59.  3. 34. 42. 19. 12. 15. 56.  3. 73. 16. 17.\n",
      " 95. 79. 38. 64. 14.  6. 59. 83. 38. 88. 81. 58. 75. 46. 89. 69. 14. 74.\n",
      " 76.]\n",
      "Initial set B: [ 5. 15. 78.  2. 11.  9. 91.  9. 91. 22. 76. 73. 49. 75. 96. 31. 52. 63.\n",
      " 40. 24. 19. 67. 50. 73. 94. 14. 45. 73.  5.  2. 28.  4. 10. 66. 70.  9.\n",
      " 19. 95. 98. 83. 33. 91. 24. 10. 58.]\n",
      "Initial sum A: 2500.0\n",
      "Initial sum B: 2052.0\n",
      "Initial energy: 200704\n",
      "Step 0: delta_E = -65408\n",
      "Step 1: delta_E = 42280\n",
      "Step 2: delta_E = -35032\n",
      "Step 3: delta_E = 23436\n",
      "Step 4: delta_E = 3348\n",
      "Step 5: delta_E = -13392\n",
      "Step 6: delta_E = 10260\n",
      "Step 7: delta_E = 16644\n",
      "Step 8: delta_E = 2052\n",
      "Step 9: delta_E = 16644\n",
      "Best sort: [-1  1 -1 -1 -1  1  1 -1  1  1 -1  1  1  1 -1 -1 -1 -1  1 -1  1  1  1  1\n",
      "  1  1  1  1  1 -1  1  1 -1  1  1 -1  1 -1  1 -1 -1  1 -1  1  1 -1  1 -1\n",
      " -1 -1 -1  1  1  1 -1 -1 -1 -1  1 -1 -1 -1 -1  1 -1  1  1  1  1 -1  1  1\n",
      " -1  1 -1  1  1 -1 -1 -1 -1 -1 -1 -1 -1 -1 -1 -1  1 -1 -1  1  1 -1  1 -1\n",
      " -1  1  1 -1]\n",
      "Lowest energy: -63631104\n",
      "Current energy: -63631104\n",
      "Final spin vector: [-1  1 -1 -1 -1  1  1 -1  1  1 -1  1  1  1 -1 -1 -1 -1  1 -1  1  1  1  1\n",
      "  1  1  1  1  1 -1  1  1 -1  1  1 -1  1 -1  1 -1 -1  1 -1  1  1 -1  1 -1\n",
      " -1 -1 -1  1  1  1 -1 -1 -1 -1  1 -1 -1 -1 -1  1 -1  1  1  1  1 -1  1  1\n",
      " -1  1 -1  1  1 -1 -1 -1 -1 -1 -1 -1 -1 -1 -1 -1  1 -1 -1  1  1 -1  1 -1\n",
      " -1  1  1 -1]\n",
      "Final set A: [98.  4. 16. 84. 11.  9. 91. 47. 20. 91. 25. 89. 51. 87. 22. 76. 73. 49.\n",
      " 75. 61. 11. 31. 63. 40. 24.  2. 67.  6.  3. 45. 34. 15. 16.  2. 95. 79.\n",
      " 28.  4. 64. 14. 66. 59. 75. 91. 24. 89. 74. 76.]\n",
      "Final set B: [ 5. 15. 78.  2. 93. 27. 69. 36.  9. 63.  7. 56. 96. 52.  8. 36.  9. 19.\n",
      " 50. 73. 59. 94. 14. 42. 19. 12. 73.  5. 56.  3. 73. 17. 38. 10.  6. 83.\n",
      " 70.  9. 38. 88. 81. 58. 19. 95. 98. 83. 46. 33. 10. 69. 14. 58.]\n",
      "Final sum A: 2276.0\n",
      "Final sum B: 2276.0\n"
     ]
    }
   ],
   "source": [
    "def metropolis(a_vector, spin_vector, temp, num_steps):\n",
    "    N = len(a_vector)\n",
    "    J = outer_prod(a_vector)\n",
    "    E_i = compute_init_energy(J, spin_vector)\n",
    "    current_energy = E_i.copy()\n",
    "    lowest_energy = current_energy.copy()\n",
    "    best_sort = spin_vector.copy()\n",
    "    print(\"Initial energy:\", current_energy)\n",
    "\n",
    "    for step in range(num_steps):\n",
    "        # choose a random number to switch into the other group\n",
    "        i = np.random.randint(0, N)\n",
    "        # compute the change in energy that would result from flipping to the\n",
    "        # other group\n",
    "        delta_E = compute_delta_energy(a_vector, spin_vector, i)\n",
    "        # print delta_E for first couple of steps only\n",
    "        if step < 10:\n",
    "            print(f\"Step {step}: delta_E = {delta_E}\")\n",
    "\n",
    "        # if the energy change is negative, accept the change or accept with a probability.\n",
    "        if delta_E <= 0 or np.random.rand() < np.exp(-delta_E / temp):\n",
    "            spin_vector[i] *= -1  # Flip the spin officially moving that number to the other set\n",
    "            current_energy += delta_E  # Update the current energy\n",
    "            # If the current energy is lower than the best found so far\n",
    "            if current_energy < lowest_energy:\n",
    "                lowest_energy = current_energy.copy()\n",
    "                best_sort = spin_vector.copy()\n",
    "\n",
    "    return best_sort, lowest_energy, current_energy, spin_vector\n",
    "\n",
    "\n",
    "temp = 1.0\n",
    "num_steps = 20000\n",
    "spin_vector = generate_spins(N)\n",
    "a_vector = generate_data(N)\n",
    "\n",
    "# Initial Groups and Sums\n",
    "set_A, set_B = get_groups(a_vector, spin_vector)\n",
    "sum_A, sum_B = get_sums(set_A, set_B)\n",
    "print(\"Initial set A:\", set_A)\n",
    "print(\"Initial set B:\", set_B)\n",
    "\n",
    "print(\"Initial sum A:\", sum_A)\n",
    "print(\"Initial sum B:\", sum_B)\n",
    "\n",
    "\n",
    "best_sort, lowest_energy, current_energy, spin_vec = metropolis(a_vector, spin_vector, temp, num_steps)\n",
    "\n",
    "print(\"Best sort:\", best_sort)\n",
    "print(\"Lowest energy:\", lowest_energy)\n",
    "print(\"Current energy:\", current_energy)\n",
    "print(\"Final spin vector:\", spin_vec)\n",
    "\n",
    "# find the groups and sums\n",
    "set_A, set_B = get_groups(a_vector, spin_vec)\n",
    "sum_A, sum_B = get_sums(set_A, set_B)\n",
    "print(\"Final set A:\", set_A)\n",
    "print(\"Final set B:\", set_B)\n",
    "\n",
    "print(\"Final sum A:\", sum_A)\n",
    "print(\"Final sum B:\", sum_B)\n",
    "\n"
   ]
  }
 ],
 "metadata": {
  "kernelspec": {
   "display_name": ".venv",
   "language": "python",
   "name": "python3"
  },
  "language_info": {
   "codemirror_mode": {
    "name": "ipython",
    "version": 3
   },
   "file_extension": ".py",
   "mimetype": "text/x-python",
   "name": "python",
   "nbconvert_exporter": "python",
   "pygments_lexer": "ipython3",
   "version": "3.11.6"
  }
 },
 "nbformat": 4,
 "nbformat_minor": 2
}
