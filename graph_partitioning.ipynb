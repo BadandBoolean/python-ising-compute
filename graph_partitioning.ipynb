{
 "cells": [
  {
   "cell_type": "markdown",
   "metadata": {},
   "source": [
    "Citations: Andrew Lucas: Ising formulations of many NP Problems. arXiv:1302.5843. \n",
    "https://arxiv.org/abs/1302.5843\n",
    "\n",
    "Ising machine: Graph Partitioning\n",
    "\n",
    "The graph partitioning problem is one of splitting a undirected graph of nodes\n",
    "into two subsets of equal size such that the number of edges connecting the two\n",
    "subsets is minimized. It is NP-hard."
   ]
  },
  {
   "cell_type": "code",
   "execution_count": 5,
   "metadata": {},
   "outputs": [],
   "source": [
    "import numpy as np\n",
    "import scienceplots\n",
    "import matplotlib.pyplot as plt\n",
    "import numba\n",
    "import math\n"
   ]
  },
  {
   "cell_type": "code",
   "execution_count": 6,
   "metadata": {},
   "outputs": [],
   "source": [
    "# spin vector randomly allocated nodes to one of two subsets [-1,1]\n",
    "N = 10\n",
    "def generate_spins(N):\n",
    "    return np.random.choice(np.array([-1, 1], dtype=np.int64), size=N) # 1D array, size. generates random sample\n",
    "\n",
    "vector = generate_spins(N)\n"
   ]
  },
  {
   "cell_type": "code",
   "execution_count": 7,
   "metadata": {},
   "outputs": [
    {
     "name": "stdout",
     "output_type": "stream",
     "text": [
      "Adjacency Matrix:\n",
      "[[0 0 1 0 0 0 1 1 1 1]\n",
      " [0 0 0 0 1 1 0 0 0 1]\n",
      " [1 0 0 0 0 0 1 0 1 1]\n",
      " [0 0 0 0 1 0 1 0 0 1]\n",
      " [0 1 0 1 0 0 1 0 1 0]\n",
      " [0 1 0 0 0 0 0 0 0 0]\n",
      " [1 0 1 1 1 0 0 0 0 0]\n",
      " [1 0 0 0 0 0 0 0 0 1]\n",
      " [1 0 1 0 1 0 0 0 0 0]\n",
      " [1 1 1 1 0 0 0 1 0 0]]\n"
     ]
    }
   ],
   "source": [
    "# Adjacency matrix for a graph with N nodes.\n",
    "# N x N graph of 0 and 1 where 0 represents no connection, 1 represents a\n",
    "# connection. \n",
    "# diagonal is all zereos. \n",
    "\n",
    "p = 0.5\n",
    "@numba.njit\n",
    "def build_adjacency_matrix(N, p):\n",
    "    adjacency_matrix = np.zeros((N, N), dtype=np.int64)\n",
    "    for i in range(N):\n",
    "        for j in range(i + 1, N):\n",
    "            if np.random.rand() < p and i != j:\n",
    "                # Only add an edge if i and j are not the same node\n",
    "                # and the random condition is met\n",
    "                adjacency_matrix[i, j] = 1\n",
    "                adjacency_matrix[j, i] = 1\n",
    "    return adjacency_matrix\n",
    "\n",
    "adjacency_matrix = build_adjacency_matrix(N, p)\n",
    "print(\"Adjacency Matrix:\")\n",
    "print(adjacency_matrix)"
   ]
  },
  {
   "cell_type": "code",
   "execution_count": 8,
   "metadata": {},
   "outputs": [],
   "source": [
    "# H = H(a) + H(b) <- Ising Hamiltonian \n",
    "def calc_energy(adjacency_matrix, vector):\n",
    "    # H(a): Heavily penalize the two subsets NOT having the same amount of nodes.\n",
    "    A = 10000 # High A to heavily penalize imbalance\n",
    "    Ha = A * (np.sum(vector) ** 2)\n",
    "    # H(b): Penalize the number of connections between nodes not in same subset\n",
    "    Hb = 0\n",
    "    B = 1 # B is the penalty for each connection between different subsets\n",
    "    sum = 0\n",
    "    for i in range(N):\n",
    "        # only do half the matrix up to the diagonal to avoid double counting\n",
    "        for j in range(i + 1, N):\n",
    "            susv = adjacency_matrix[i,j] * (vector[i] * vector[j]) \n",
    "            sum += (1- susv) / 2\n",
    "    Hb = sum * B\n",
    "    return Ha + Hb\n"
   ]
  },
  {
   "cell_type": "code",
   "execution_count": 9,
   "metadata": {},
   "outputs": [
    {
     "name": "stdout",
     "output_type": "stream",
     "text": [
      "initial vector: [-1  1  1  1  1 -1  1 -1  1 -1]\n",
      "initial energy: 40021.0\n",
      "Initial Energy: 40021.0\n",
      "Final vector: [-1  1  1 -1  1 -1  1 -1  1 -1]\n",
      "Final energy: 22.0\n"
     ]
    }
   ],
   "source": [
    "def metropolis(adjacency_matrix, vector, T, steps):\n",
    "    N = len(vector)\n",
    "    E_i = calc_energy(adjacency_matrix, vector)\n",
    "    print(\"Initial Energy:\", E_i)\n",
    "    # Metropolis algorithm to minimize energy\n",
    "    for step in range(steps):\n",
    "        i = np.random.randint(N)  # Pick a random node\n",
    "        # Flip the spin of the selected node\n",
    "        vector[i] *= -1\n",
    "        E_f = calc_energy(adjacency_matrix, vector)\n",
    "        # Calculate the energy difference\n",
    "        delta_E = E_f - E_i\n",
    "        # Accept or reject the new state based on the Metropolis criterion\n",
    "        if delta_E < 0 or np.random.rand() < np.exp(-delta_E / T):\n",
    "            # Accept the new state\n",
    "            E_i = E_f\n",
    "        else:\n",
    "            # Reject the new state, revert the spin flip\n",
    "            vector[i] *= -1\n",
    "\n",
    "    return vector, E_i\n",
    "\n",
    "\n",
    "steps = 1000\n",
    "T = 1.0\n",
    "print(\"initial vector:\", vector)\n",
    "print(\"initial energy:\", calc_energy(adjacency_matrix, vector))\n",
    "final_vector, final_energy = metropolis(adjacency_matrix, vector, T, steps)\n",
    "\n",
    "print(\"Final vector:\", final_vector)\n",
    "print(\"Final energy:\", final_energy)"
   ]
  }
 ],
 "metadata": {
  "kernelspec": {
   "display_name": ".venv",
   "language": "python",
   "name": "python3"
  },
  "language_info": {
   "codemirror_mode": {
    "name": "ipython",
    "version": 3
   },
   "file_extension": ".py",
   "mimetype": "text/x-python",
   "name": "python",
   "nbconvert_exporter": "python",
   "pygments_lexer": "ipython3",
   "version": "3.11.6"
  }
 },
 "nbformat": 4,
 "nbformat_minor": 2
}
