{
 "cells": [
  {
   "cell_type": "markdown",
   "id": "6e082c0d",
   "metadata": {},
   "source": [
    "Citations: Andrew Lucas: Ising formulations of many NP Problems. arXiv:1302.5843. \n",
    "https://arxiv.org/abs/1302.5843\n",
    "\n",
    "Ising machine: Largest Clique\n",
    "\n",
    "A clique is a subgroup of nodes in an undirected graph where each node is\n",
    "connected via an edge to every other node. The NP-hard version of the original\n",
    "cliques problem is to find (one of) the largest clique(s) in the graph."
   ]
  },
  {
   "cell_type": "code",
   "execution_count": 2,
   "id": "4799ad84",
   "metadata": {},
   "outputs": [],
   "source": [
    "import numpy as np\n",
    "import scienceplots\n",
    "import matplotlib.pyplot as plt\n",
    "import numba\n",
    "import math"
   ]
  },
  {
   "cell_type": "code",
   "execution_count": null,
   "id": "a9e3c65c",
   "metadata": {},
   "outputs": [
    {
     "name": "stdout",
     "output_type": "stream",
     "text": [
      "[1 1 1 1 0 0 0 0 1 1 0 1 0 1 0 0 0 1 0 1 0 0 0 1 1 1 0 1 0 0 0 1 1 0 0 1 0\n",
      " 1 0 1 1 0 0 0 1 0 0 0 0 0 0 1 1 1 0 1 0 1 0 0 1 0 0 0 0 0 0 0 0 0 1 1 0 0\n",
      " 0 0 1 1 0 0 1 0 1 0 0 1 0 0 0 0 1 0 1 0 0 0 0 1 1 0 1 1 0 1 1 0 0 1 1 0 1\n",
      " 0 1 1 0 0 1 1 1 0 1 1 0 1 1 1 1 1 1 1 1 0 1 0 1 1 1 1 0 0 0 0 1 0 0 1 0 1\n",
      " 0 1 1 1 1 0 1 0 1 0 1 0 0 1 0 1 1 1 0 1 0 1 0 1 1 1 0 0 1 1 0 0 1 1 1 0 0\n",
      " 0 1 1 0 0 0 1 0 1 1 0 0 1 1 1 0 0 0 0 0 1 0 0 1 0 0 0 0 1 1 0 1 0 1 1 1 0\n",
      " 1 1 1 1 1 1 1 0 0 0 1 1 0 1 1 1 0 1 0 1 1 1 1 1 1 1 1 1 1 1 0 0 0 1 1 0 1\n",
      " 1 0 0 0 0 0 0 1 1 0 1 1 0 0 0 0 0 0 1 1 1 1 1 0 1 0 0 0 0 1 1 0 0 0 0 0 0\n",
      " 0 1 1 1 1 0 0 1 0 0 0 0 0 1 0 1 0 0 0 1 1 1 0 1 0 0 0 1 0 1 1 1 0 1 1 0 0\n",
      " 1 0 1 1 1 0 0 1 1 0 0 0 1 0 1 1 1 1 1 1 1 1 1 1 0 0 1 1 1 1 0 1 1 1 0 0 0\n",
      " 1 0 1 1 0 1 0 0 0 1 1 0 0 1 0 0 1 0 1 0 1 0 0 0 0 1 0 1 0 0 1 0 1 0 1 0 1\n",
      " 1 1 1 0 0 0 0 1 1 0 0 1 0 0 0 0 0 1 1 0 0 0 0 0 1 0 1 1 0 1 0 0 1 0 0 0 1\n",
      " 1 1 0 0 0 0 1 1 1 0 0 1 1 1 1 1 0 1 0 0 1 0 1 0 1 1 1 1 1 1 1 0 1 1 1 1 0\n",
      " 1 1 1 0 0 0 0 1 1 1 1 0 1 1 1 0 1 1 1 1 1 1 0 0 1 0 0 1 0 1 0 0 0 0 0 1 0\n",
      " 0 1 1 1 1 0 1 0 0 1 0 1 1 0 0 1 0 1 0 0 1 0 0 0 0 1 0 1 1 1 1 0 1 1 1 0 1\n",
      " 1 0 1 1 0 1 1 1 0 1 0 0 0 1 0 0 0 1 1 1 0 0 0 1 0 1 0 0 1 0 1 1 0 0 0 1 0\n",
      " 0 0 0 0 0 1 1 0 0 0 0 1 0 1 1 1 1 1 0 0 0 0 1 0 0 0 0 0 0 1 1 1 1 1 1 0 0\n",
      " 0 0 1 0 1 1 1 0 1 1 1 1 0 1 1 1 1 1 1 0 1 1 1 1 1 0 0 1 0 1 0 0 0 0 0 1 0\n",
      " 0 1 0 1 0 1 1 1 0 1 0 0 1 1 1 0 1 1 0 0 1 0 1 0 1 1 1 1 0 1 0 1 0 0 0 1 1\n",
      " 0 1 0 1 0 1 1 1 1 1 0 1 0 0 1 1 0 0 0 0 0 0 0 1 0 1 0 0 1 1 1 1 1 1 0 1 1\n",
      " 0 1 0 1 0 1 0 1 1 1 1 1 0 1 0 0 1 0 1 1 0 1 1 1 1 0 0 1 0 0 1 0 1 1 0 0 0\n",
      " 0 0 1 0 0 0 0 0 0 0 1 1 0 1 0 0 1 1 0 1 0 1 1 1 0 0 0 0 1 0 0 0 1 0 0 0 0\n",
      " 1 0 0 1 1 1 0 1 0 0 0 0 1 0 0 0 1 1 1 0 0 0 1 1 0 1 1 0 1 0 0 0 1 0 1 1 0\n",
      " 0 0 0 1 1 1 1 0 1 0 0 1 0 1 1 0 0 1 1 0 1 1 1 1 1 1 0 0 0 0 1 0 1 1 1 0 0\n",
      " 0 1 1 0 0 0 0 1 0 0 1 0 1 1 0 0 1 0 0 0 0 0 1 0 1 0 1 1 0 0 1 1 1 1 0 1 1\n",
      " 0 0 1 1 1 1 1 1 0 0 0 1 1 0 0 0 0 1 1 1 1 0 0 1 0 0 1 1 0 1 0 0 1 0 0 0 0\n",
      " 1 0 1 1 0 0 1 1 1 1 0 0 0 1 1 1 0 0 0 0 1 1 1 0 0 1 1 0 0 1 1 0 1 0 0 1 1\n",
      " 0]\n"
     ]
    }
   ],
   "source": [
    "N = 1000\n",
    "@numba.njit\n",
    "def generate_binary_spins(N):\n",
    "    spins = np.random.choice(np.array([-1, 1], dtype=np.int64), size=N) # 1D array, size. generates random sample\n",
    "    # xalpha = (sa + 1) / 2\n",
    "    # generate binary grid. 1 if spin is 1, 0 if spin is -1\n",
    "    xalpha = np.zeros(N, dtype=np.int64)\n",
    "    for i in range(N):\n",
    "        if spins[i] == 1:\n",
    "            xalpha[i] = 1\n",
    "        else:\n",
    "            xalpha[i] = 0\n",
    "    return xalpha\n",
    "\n",
    "xalpha = generate_binary_spins(N)\n",
    "print(xalpha)\n"
   ]
  },
  {
   "cell_type": "code",
   "execution_count": null,
   "id": "fb01ecec",
   "metadata": {},
   "outputs": [],
   "source": [
    "def get_yi(n):"
   ]
  }
 ],
 "metadata": {
  "kernelspec": {
   "display_name": ".venv",
   "language": "python",
   "name": "python3"
  },
  "language_info": {
   "codemirror_mode": {
    "name": "ipython",
    "version": 3
   },
   "file_extension": ".py",
   "mimetype": "text/x-python",
   "name": "python",
   "nbconvert_exporter": "python",
   "pygments_lexer": "ipython3",
   "version": "3.11.6"
  }
 },
 "nbformat": 4,
 "nbformat_minor": 5
}
